{
  "nbformat": 4,
  "nbformat_minor": 0,
  "metadata": {
    "colab": {
      "provenance": []
    },
    "kernelspec": {
      "name": "python3",
      "display_name": "Python 3"
    },
    "language_info": {
      "name": "python"
    }
  },
  "cells": [
    {
      "cell_type": "code",
      "execution_count": 5,
      "metadata": {
        "colab": {
          "base_uri": "https://localhost:8080/"
        },
        "id": "X5Zez58sMEcG",
        "outputId": "74a800bf-3427-44e9-a30f-0438f0a9bf2a"
      },
      "outputs": [
        {
          "output_type": "stream",
          "name": "stdout",
          "text": [
            "Masukan angka: 9\n",
            "[9, 7, 5, 3, 1]\n"
          ]
        }
      ],
      "source": [
        "#NO1\n",
        "num = int(input(\"Masukan angka: \"))\n",
        "ganjil = []\n",
        "for i in range(num,0,-1):\n",
        "  if i % 2!=0:\n",
        "    ganjil.append(i)\n",
        "\n",
        "print(ganjil)"
      ]
    },
    {
      "cell_type": "code",
      "source": [
        "#NO2\n",
        "\n",
        "input_str = input(\"Masukan string:\")\n",
        "vokal = \"aiueoAIUEO\"\n",
        "vokal_input = \"\"\n",
        "\n",
        "for char in input_str:\n",
        "  if char in vokal:\n",
        "    vokal_input += char\n",
        "\n",
        "\n",
        "print(vokal_input)"
      ],
      "metadata": {
        "colab": {
          "base_uri": "https://localhost:8080/"
        },
        "id": "ad2-RlGIM1iA",
        "outputId": "154a61c9-8739-4975-db68-44a9f64923ef"
      },
      "execution_count": 10,
      "outputs": [
        {
          "output_type": "stream",
          "name": "stdout",
          "text": [
            "Masukan string:Indonesia Raya\n",
            "Ioeiaaa\n"
          ]
        }
      ]
    }
  ]
}